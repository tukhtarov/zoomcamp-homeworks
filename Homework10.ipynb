{
 "cells": [
  {
   "cell_type": "markdown",
   "id": "5d530f9d-5afc-4632-915e-a231f1b2ce87",
   "metadata": {
    "tags": []
   },
   "source": [
    "Question 1"
   ]
  },
  {
   "cell_type": "markdown",
   "id": "0abd4adc-1f78-4158-8f3d-b5ad8e1b1ecf",
   "metadata": {},
   "source": [
    "Answer - 0.7269"
   ]
  },
  {
   "cell_type": "markdown",
   "id": "6e294e01-6b86-480c-b40b-05601622aa8d",
   "metadata": {},
   "source": [
    "Question 2"
   ]
  },
  {
   "cell_type": "markdown",
   "id": "98d38153-d05c-4784-8e14-cec134a39751",
   "metadata": {},
   "source": [
    "Answer - 0.15.0"
   ]
  },
  {
   "cell_type": "markdown",
   "id": "0bdcf65f-8ccc-456b-962b-3ad89ef88fcb",
   "metadata": {},
   "source": [
    "Question 3"
   ]
  },
  {
   "cell_type": "markdown",
   "id": "f50475d2-91c2-45f2-8111-3ecf32f8b694",
   "metadata": {},
   "source": [
    "Answer - 10.96.0.1"
   ]
  },
  {
   "cell_type": "markdown",
   "id": "1401e4b6-7bf7-4d4b-a978-dfbc2dfa6ad3",
   "metadata": {},
   "source": [
    "Question 4"
   ]
  },
  {
   "cell_type": "code",
   "execution_count": null,
   "id": "a16bf644-bea3-47ef-ab68-1f9fb0022013",
   "metadata": {},
   "outputs": [],
   "source": [
    "Answer - kind load docker-image"
   ]
  },
  {
   "cell_type": "markdown",
   "id": "59e8ae1c-deae-4687-930b-1cc20078c070",
   "metadata": {},
   "source": [
    "Question 5"
   ]
  },
  {
   "cell_type": "markdown",
   "id": "4be7f04b-3226-4a66-b130-cfa6fe08283c",
   "metadata": {},
   "source": [
    "Answer - 9696"
   ]
  },
  {
   "cell_type": "code",
   "execution_count": null,
   "id": "c9e2215a-f618-43f3-860c-7f884c077022",
   "metadata": {},
   "outputs": [],
   "source": [
    "Question 6"
   ]
  },
  {
   "cell_type": "code",
   "execution_count": null,
   "id": "cb373fce-58bb-4af4-9b08-309914c222fb",
   "metadata": {},
   "outputs": [],
   "source": [
    "Answer - credit"
   ]
  },
  {
   "cell_type": "markdown",
   "id": "b30c465e-bbd1-46e4-851c-0dd4870e37bc",
   "metadata": {},
   "source": [
    "Question 7"
   ]
  },
  {
   "cell_type": "markdown",
   "id": "717a2a01-d8ac-4650-9ef5-d3da728aa776",
   "metadata": {},
   "source": [
    "Answer - 1"
   ]
  }
 ],
 "metadata": {
  "kernelspec": {
   "display_name": "Python 3 (ipykernel)",
   "language": "python",
   "name": "python3"
  },
  "language_info": {
   "codemirror_mode": {
    "name": "ipython",
    "version": 3
   },
   "file_extension": ".py",
   "mimetype": "text/x-python",
   "name": "python",
   "nbconvert_exporter": "python",
   "pygments_lexer": "ipython3",
   "version": "3.9.18"
  }
 },
 "nbformat": 4,
 "nbformat_minor": 5
}
